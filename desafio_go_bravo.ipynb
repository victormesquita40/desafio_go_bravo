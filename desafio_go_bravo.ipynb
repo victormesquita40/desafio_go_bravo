{
 "cells": [
  {
   "cell_type": "markdown",
   "id": "17352fa5",
   "metadata": {},
   "source": [
    "# Bibliotecas"
   ]
  },
  {
   "cell_type": "code",
   "execution_count": 1,
   "id": "e5175964",
   "metadata": {},
   "outputs": [],
   "source": [
    "import pandas as pd\n",
    "import numpy as np\n",
    "import matplotlib.pyplot as plt \n",
    "import os\n",
    "import seaborn as sns\n",
    "import sklearn\n",
    "from sklearn.linear_model import LogisticRegression\n",
    "from sklearn.model_selection import train_test_split\n",
    "from scipy import stats"
   ]
  },
  {
   "cell_type": "markdown",
   "id": "f608a4b0",
   "metadata": {},
   "source": [
    "# Datos"
   ]
  },
  {
   "cell_type": "code",
   "execution_count": 2,
   "id": "4e741913",
   "metadata": {},
   "outputs": [],
   "source": [
    "os.chdir(r'C:\\Users\\User\\Documents\\desafio_go_bravo')"
   ]
  },
  {
   "cell_type": "code",
   "execution_count": 3,
   "id": "5cf53356",
   "metadata": {},
   "outputs": [
    {
     "data": {
      "text/html": [
       "<div>\n",
       "<style scoped>\n",
       "    .dataframe tbody tr th:only-of-type {\n",
       "        vertical-align: middle;\n",
       "    }\n",
       "\n",
       "    .dataframe tbody tr th {\n",
       "        vertical-align: top;\n",
       "    }\n",
       "\n",
       "    .dataframe thead th {\n",
       "        text-align: right;\n",
       "    }\n",
       "</style>\n",
       "<table border=\"1\" class=\"dataframe\">\n",
       "  <thead>\n",
       "    <tr style=\"text-align: right;\">\n",
       "      <th></th>\n",
       "      <th>Fecha_registro</th>\n",
       "      <th>Fecha_contacto</th>\n",
       "      <th>Id</th>\n",
       "      <th>Genero</th>\n",
       "      <th>Casado</th>\n",
       "      <th>Dependientes</th>\n",
       "      <th>Educacion</th>\n",
       "      <th>Trabaja_para_el</th>\n",
       "      <th>Salario</th>\n",
       "      <th>Salario_Pareja</th>\n",
       "      <th>Credito_pedido</th>\n",
       "      <th>Plazo_prestamo</th>\n",
       "      <th>Historial_crediticio</th>\n",
       "      <th>Area_vivienda</th>\n",
       "      <th>Estatus_prestamo</th>\n",
       "      <th>Asesor_asignado</th>\n",
       "    </tr>\n",
       "  </thead>\n",
       "  <tbody>\n",
       "    <tr>\n",
       "      <th>0</th>\n",
       "      <td>2019-02-26 11:00:00</td>\n",
       "      <td>2019-02-27 12:03:00</td>\n",
       "      <td>LP002519</td>\n",
       "      <td>Hombre</td>\n",
       "      <td>Si</td>\n",
       "      <td>3+</td>\n",
       "      <td>Graduado</td>\n",
       "      <td>No</td>\n",
       "      <td>4691</td>\n",
       "      <td>0.0</td>\n",
       "      <td>100.0</td>\n",
       "      <td>360.0</td>\n",
       "      <td>1.0</td>\n",
       "      <td>Semiurbana</td>\n",
       "      <td>Si</td>\n",
       "      <td>Dudley</td>\n",
       "    </tr>\n",
       "    <tr>\n",
       "      <th>1</th>\n",
       "      <td>2019-02-27 14:52:00</td>\n",
       "      <td>2019-02-26 07:43:00</td>\n",
       "      <td>LP001280</td>\n",
       "      <td>Hombre</td>\n",
       "      <td>Si</td>\n",
       "      <td>2</td>\n",
       "      <td>No Graduado</td>\n",
       "      <td>No</td>\n",
       "      <td>3333</td>\n",
       "      <td>2000.0</td>\n",
       "      <td>99.0</td>\n",
       "      <td>360.0</td>\n",
       "      <td>NaN</td>\n",
       "      <td>Semiurbana</td>\n",
       "      <td>Si</td>\n",
       "      <td>Pablo</td>\n",
       "    </tr>\n",
       "    <tr>\n",
       "      <th>2</th>\n",
       "      <td>2019-02-27 08:18:00</td>\n",
       "      <td>2019-02-28 14:27:00</td>\n",
       "      <td>LP001151</td>\n",
       "      <td>Mujer</td>\n",
       "      <td>No</td>\n",
       "      <td>0</td>\n",
       "      <td>Graduado</td>\n",
       "      <td>No</td>\n",
       "      <td>4000</td>\n",
       "      <td>2275.0</td>\n",
       "      <td>144.0</td>\n",
       "      <td>360.0</td>\n",
       "      <td>1.0</td>\n",
       "      <td>Semiurbana</td>\n",
       "      <td>Si</td>\n",
       "      <td>Dudley</td>\n",
       "    </tr>\n",
       "    <tr>\n",
       "      <th>3</th>\n",
       "      <td>2019-02-28 10:00:00</td>\n",
       "      <td>2019-03-01 12:57:00</td>\n",
       "      <td>LP002036</td>\n",
       "      <td>Hombre</td>\n",
       "      <td>Si</td>\n",
       "      <td>0</td>\n",
       "      <td>Graduado</td>\n",
       "      <td>No</td>\n",
       "      <td>2058</td>\n",
       "      <td>2134.0</td>\n",
       "      <td>88.0</td>\n",
       "      <td>360.0</td>\n",
       "      <td>NaN</td>\n",
       "      <td>Urabana</td>\n",
       "      <td>Si</td>\n",
       "      <td>Ana</td>\n",
       "    </tr>\n",
       "    <tr>\n",
       "      <th>4</th>\n",
       "      <td>2019-02-26 07:40:00</td>\n",
       "      <td>2019-02-27 16:35:00</td>\n",
       "      <td>LP002894</td>\n",
       "      <td>Mujer</td>\n",
       "      <td>Si</td>\n",
       "      <td>0</td>\n",
       "      <td>Graduado</td>\n",
       "      <td>No</td>\n",
       "      <td>3166</td>\n",
       "      <td>0.0</td>\n",
       "      <td>36.0</td>\n",
       "      <td>360.0</td>\n",
       "      <td>1.0</td>\n",
       "      <td>Semiurbana</td>\n",
       "      <td>Si</td>\n",
       "      <td>Regina</td>\n",
       "    </tr>\n",
       "    <tr>\n",
       "      <th>...</th>\n",
       "      <td>...</td>\n",
       "      <td>...</td>\n",
       "      <td>...</td>\n",
       "      <td>...</td>\n",
       "      <td>...</td>\n",
       "      <td>...</td>\n",
       "      <td>...</td>\n",
       "      <td>...</td>\n",
       "      <td>...</td>\n",
       "      <td>...</td>\n",
       "      <td>...</td>\n",
       "      <td>...</td>\n",
       "      <td>...</td>\n",
       "      <td>...</td>\n",
       "      <td>...</td>\n",
       "      <td>...</td>\n",
       "    </tr>\n",
       "    <tr>\n",
       "      <th>552</th>\n",
       "      <td>2019-02-27 08:22:00</td>\n",
       "      <td>2019-02-28 13:04:00</td>\n",
       "      <td>LP002894</td>\n",
       "      <td>Mujer</td>\n",
       "      <td>Si</td>\n",
       "      <td>0</td>\n",
       "      <td>Graduado</td>\n",
       "      <td>No</td>\n",
       "      <td>3166</td>\n",
       "      <td>0.0</td>\n",
       "      <td>36.0</td>\n",
       "      <td>360.0</td>\n",
       "      <td>1.0</td>\n",
       "      <td>Semiurbana</td>\n",
       "      <td>Si</td>\n",
       "      <td>Pablo</td>\n",
       "    </tr>\n",
       "    <tr>\n",
       "      <th>553</th>\n",
       "      <td>2019-02-27 10:40:00</td>\n",
       "      <td>2019-02-28 13:10:00</td>\n",
       "      <td>LP002315</td>\n",
       "      <td>Hombre</td>\n",
       "      <td>Si</td>\n",
       "      <td>1</td>\n",
       "      <td>Graduado</td>\n",
       "      <td>No</td>\n",
       "      <td>8300</td>\n",
       "      <td>0.0</td>\n",
       "      <td>152.0</td>\n",
       "      <td>300.0</td>\n",
       "      <td>0.0</td>\n",
       "      <td>Semiurbana</td>\n",
       "      <td>No</td>\n",
       "      <td>NaN</td>\n",
       "    </tr>\n",
       "    <tr>\n",
       "      <th>554</th>\n",
       "      <td>2019-02-28 10:32:00</td>\n",
       "      <td>2019-03-01 14:20:00</td>\n",
       "      <td>LP002225</td>\n",
       "      <td>Hombre</td>\n",
       "      <td>Si</td>\n",
       "      <td>2</td>\n",
       "      <td>Graduado</td>\n",
       "      <td>No</td>\n",
       "      <td>5391</td>\n",
       "      <td>0.0</td>\n",
       "      <td>130.0</td>\n",
       "      <td>360.0</td>\n",
       "      <td>1.0</td>\n",
       "      <td>Urabana</td>\n",
       "      <td>Si</td>\n",
       "      <td>Ana</td>\n",
       "    </tr>\n",
       "    <tr>\n",
       "      <th>555</th>\n",
       "      <td>2019-02-26 09:48:00</td>\n",
       "      <td>2019-02-27 13:28:00</td>\n",
       "      <td>LP002807</td>\n",
       "      <td>Hombre</td>\n",
       "      <td>Si</td>\n",
       "      <td>2</td>\n",
       "      <td>No Graduado</td>\n",
       "      <td>No</td>\n",
       "      <td>3675</td>\n",
       "      <td>242.0</td>\n",
       "      <td>108.0</td>\n",
       "      <td>360.0</td>\n",
       "      <td>1.0</td>\n",
       "      <td>Semiurbana</td>\n",
       "      <td>Si</td>\n",
       "      <td>Pablo</td>\n",
       "    </tr>\n",
       "    <tr>\n",
       "      <th>556</th>\n",
       "      <td>2019-02-26 11:18:00</td>\n",
       "      <td>2019-02-27 16:14:00</td>\n",
       "      <td>LP001664</td>\n",
       "      <td>Hombre</td>\n",
       "      <td>No</td>\n",
       "      <td>0</td>\n",
       "      <td>Graduado</td>\n",
       "      <td>No</td>\n",
       "      <td>4191</td>\n",
       "      <td>0.0</td>\n",
       "      <td>120.0</td>\n",
       "      <td>360.0</td>\n",
       "      <td>1.0</td>\n",
       "      <td>Rural</td>\n",
       "      <td>Si</td>\n",
       "      <td>Santiago</td>\n",
       "    </tr>\n",
       "  </tbody>\n",
       "</table>\n",
       "<p>557 rows × 16 columns</p>\n",
       "</div>"
      ],
      "text/plain": [
       "         Fecha_registro      Fecha_contacto        Id  Genero Casado  \\\n",
       "0   2019-02-26 11:00:00 2019-02-27 12:03:00  LP002519  Hombre     Si   \n",
       "1   2019-02-27 14:52:00 2019-02-26 07:43:00  LP001280  Hombre     Si   \n",
       "2   2019-02-27 08:18:00 2019-02-28 14:27:00  LP001151   Mujer     No   \n",
       "3   2019-02-28 10:00:00 2019-03-01 12:57:00  LP002036  Hombre     Si   \n",
       "4   2019-02-26 07:40:00 2019-02-27 16:35:00  LP002894   Mujer     Si   \n",
       "..                  ...                 ...       ...     ...    ...   \n",
       "552 2019-02-27 08:22:00 2019-02-28 13:04:00  LP002894   Mujer     Si   \n",
       "553 2019-02-27 10:40:00 2019-02-28 13:10:00  LP002315  Hombre     Si   \n",
       "554 2019-02-28 10:32:00 2019-03-01 14:20:00  LP002225  Hombre     Si   \n",
       "555 2019-02-26 09:48:00 2019-02-27 13:28:00  LP002807  Hombre     Si   \n",
       "556 2019-02-26 11:18:00 2019-02-27 16:14:00  LP001664  Hombre     No   \n",
       "\n",
       "    Dependientes    Educacion Trabaja_para_el  Salario  Salario_Pareja  \\\n",
       "0             3+     Graduado              No     4691             0.0   \n",
       "1              2  No Graduado              No     3333          2000.0   \n",
       "2              0     Graduado              No     4000          2275.0   \n",
       "3              0     Graduado              No     2058          2134.0   \n",
       "4              0     Graduado              No     3166             0.0   \n",
       "..           ...          ...             ...      ...             ...   \n",
       "552            0     Graduado              No     3166             0.0   \n",
       "553            1     Graduado              No     8300             0.0   \n",
       "554            2     Graduado              No     5391             0.0   \n",
       "555            2  No Graduado              No     3675           242.0   \n",
       "556            0     Graduado              No     4191             0.0   \n",
       "\n",
       "     Credito_pedido  Plazo_prestamo  Historial_crediticio Area_vivienda  \\\n",
       "0             100.0           360.0                   1.0    Semiurbana   \n",
       "1              99.0           360.0                   NaN    Semiurbana   \n",
       "2             144.0           360.0                   1.0    Semiurbana   \n",
       "3              88.0           360.0                   NaN       Urabana   \n",
       "4              36.0           360.0                   1.0    Semiurbana   \n",
       "..              ...             ...                   ...           ...   \n",
       "552            36.0           360.0                   1.0    Semiurbana   \n",
       "553           152.0           300.0                   0.0    Semiurbana   \n",
       "554           130.0           360.0                   1.0       Urabana   \n",
       "555           108.0           360.0                   1.0    Semiurbana   \n",
       "556           120.0           360.0                   1.0         Rural   \n",
       "\n",
       "    Estatus_prestamo Asesor_asignado  \n",
       "0                 Si          Dudley  \n",
       "1                 Si           Pablo  \n",
       "2                 Si          Dudley  \n",
       "3                 Si             Ana  \n",
       "4                 Si          Regina  \n",
       "..               ...             ...  \n",
       "552               Si           Pablo  \n",
       "553               No             NaN  \n",
       "554               Si             Ana  \n",
       "555               Si           Pablo  \n",
       "556               Si        Santiago  \n",
       "\n",
       "[557 rows x 16 columns]"
      ]
     },
     "execution_count": 3,
     "metadata": {},
     "output_type": "execute_result"
    }
   ],
   "source": [
    "dados_prestamo = pd.read_csv(\"datos_prestamo.csv\")\n",
    "dados_prestamo.drop(\"Unnamed: 0\",axis=1,inplace=True)\n",
    "dados_prestamo['Fecha_registro'] = pd.to_datetime(dados_prestamo['Fecha_registro'])\n",
    "dados_prestamo['Fecha_contacto'] = pd.to_datetime(dados_prestamo['Fecha_contacto'])\n",
    "dados_prestamo"
   ]
  },
  {
   "cell_type": "code",
   "execution_count": 4,
   "id": "df39c9c7",
   "metadata": {},
   "outputs": [
    {
     "data": {
      "text/plain": [
       "Id\n",
       "LP001743    2\n",
       "LP001205    2\n",
       "LP001387    2\n",
       "LP002424    2\n",
       "LP002738    2\n",
       "           ..\n",
       "LP002300    1\n",
       "LP002606    1\n",
       "LP002600    1\n",
       "LP001708    1\n",
       "LP001664    1\n",
       "Name: count, Length: 537, dtype: int64"
      ]
     },
     "execution_count": 4,
     "metadata": {},
     "output_type": "execute_result"
    }
   ],
   "source": [
    "dados_prestamo['Id'].value_counts()"
   ]
  },
  {
   "cell_type": "markdown",
   "id": "cee91bb0",
   "metadata": {},
   "source": [
    "Existem algumas colunas com valores nulos."
   ]
  },
  {
   "cell_type": "code",
   "execution_count": 5,
   "id": "fcc9c3b7",
   "metadata": {},
   "outputs": [
    {
     "data": {
      "text/plain": [
       "Fecha_registro            0\n",
       "Fecha_contacto            0\n",
       "Id                        0\n",
       "Genero                   12\n",
       "Casado                    3\n",
       "Dependientes             13\n",
       "Educacion                 0\n",
       "Trabaja_para_el          27\n",
       "Salario                   0\n",
       "Salario_Pareja            0\n",
       "Credito_pedido           21\n",
       "Plazo_prestamo           13\n",
       "Historial_crediticio     47\n",
       "Area_vivienda             0\n",
       "Estatus_prestamo          0\n",
       "Asesor_asignado         117\n",
       "dtype: int64"
      ]
     },
     "execution_count": 5,
     "metadata": {},
     "output_type": "execute_result"
    }
   ],
   "source": [
    "dados_prestamo.isnull().sum()"
   ]
  },
  {
   "cell_type": "code",
   "execution_count": 6,
   "id": "b8d5dc44",
   "metadata": {},
   "outputs": [
    {
     "data": {
      "text/plain": [
       "Fecha_registro          416\n",
       "Fecha_contacto          438\n",
       "Id                      537\n",
       "Genero                    2\n",
       "Casado                    2\n",
       "Dependientes              4\n",
       "Educacion                 2\n",
       "Trabaja_para_el           2\n",
       "Salario                 454\n",
       "Salario_Pareja          261\n",
       "Credito_pedido          190\n",
       "Plazo_prestamo            9\n",
       "Historial_crediticio      2\n",
       "Area_vivienda             3\n",
       "Estatus_prestamo          2\n",
       "Asesor_asignado           5\n",
       "dtype: int64"
      ]
     },
     "execution_count": 6,
     "metadata": {},
     "output_type": "execute_result"
    }
   ],
   "source": [
    "dados_prestamo.nunique()"
   ]
  },
  {
   "cell_type": "code",
   "execution_count": 7,
   "id": "9ebcc07d",
   "metadata": {},
   "outputs": [
    {
     "data": {
      "text/plain": [
       "557"
      ]
     },
     "execution_count": 7,
     "metadata": {},
     "output_type": "execute_result"
    }
   ],
   "source": [
    "len(dados_prestamo)"
   ]
  },
  {
   "cell_type": "markdown",
   "id": "09d3a527",
   "metadata": {},
   "source": [
    "Não existem valores duplicados como podemos ver abaixo."
   ]
  },
  {
   "cell_type": "code",
   "execution_count": 8,
   "id": "4c0045b2",
   "metadata": {},
   "outputs": [
    {
     "data": {
      "text/plain": [
       "557"
      ]
     },
     "execution_count": 8,
     "metadata": {},
     "output_type": "execute_result"
    }
   ],
   "source": [
    "dados_prestamo.drop_duplicates(inplace=True);len(dados_prestamo)"
   ]
  },
  {
   "cell_type": "code",
   "execution_count": 9,
   "id": "b3b7b669",
   "metadata": {},
   "outputs": [
    {
     "data": {
      "text/plain": [
       "[Timestamp('2019-02-26 07:00:00'), Timestamp('2019-03-01 16:17:00')]"
      ]
     },
     "execution_count": 9,
     "metadata": {},
     "output_type": "execute_result"
    }
   ],
   "source": [
    "[dados_prestamo['Fecha_registro'].min(),dados_prestamo['Fecha_registro'].max()]"
   ]
  },
  {
   "cell_type": "code",
   "execution_count": 10,
   "id": "1a69a180",
   "metadata": {},
   "outputs": [
    {
     "data": {
      "text/plain": [
       "[Timestamp('2019-02-26 07:43:00'), Timestamp('2019-03-01 18:58:00')]"
      ]
     },
     "execution_count": 10,
     "metadata": {},
     "output_type": "execute_result"
    }
   ],
   "source": [
    "[dados_prestamo['Fecha_contacto'].min(),dados_prestamo['Fecha_contacto'].max()]"
   ]
  },
  {
   "cell_type": "markdown",
   "id": "ea76cdf4",
   "metadata": {},
   "source": [
    "## Eliminando valores nulos"
   ]
  },
  {
   "cell_type": "markdown",
   "id": "5321288e",
   "metadata": {},
   "source": [
    "Parte de la información no fue completada por el equipo de crédito. Entonces, debido al hecho de que estos valores faltantes no son el resultado de la aleatoriedad sino más bien un factor que otros datos observados no pueden explicar, decidí eliminarlos."
   ]
  },
  {
   "cell_type": "code",
   "execution_count": 11,
   "id": "d46d5326",
   "metadata": {},
   "outputs": [
    {
     "data": {
      "text/html": [
       "<div>\n",
       "<style scoped>\n",
       "    .dataframe tbody tr th:only-of-type {\n",
       "        vertical-align: middle;\n",
       "    }\n",
       "\n",
       "    .dataframe tbody tr th {\n",
       "        vertical-align: top;\n",
       "    }\n",
       "\n",
       "    .dataframe thead th {\n",
       "        text-align: right;\n",
       "    }\n",
       "</style>\n",
       "<table border=\"1\" class=\"dataframe\">\n",
       "  <thead>\n",
       "    <tr style=\"text-align: right;\">\n",
       "      <th></th>\n",
       "      <th>Fecha_registro</th>\n",
       "      <th>Fecha_contacto</th>\n",
       "      <th>Id</th>\n",
       "      <th>Genero</th>\n",
       "      <th>Casado</th>\n",
       "      <th>Dependientes</th>\n",
       "      <th>Educacion</th>\n",
       "      <th>Trabaja_para_el</th>\n",
       "      <th>Salario</th>\n",
       "      <th>Salario_Pareja</th>\n",
       "      <th>Credito_pedido</th>\n",
       "      <th>Plazo_prestamo</th>\n",
       "      <th>Historial_crediticio</th>\n",
       "      <th>Area_vivienda</th>\n",
       "      <th>Estatus_prestamo</th>\n",
       "      <th>Asesor_asignado</th>\n",
       "    </tr>\n",
       "  </thead>\n",
       "  <tbody>\n",
       "    <tr>\n",
       "      <th>1</th>\n",
       "      <td>2019-02-27 14:52:00</td>\n",
       "      <td>2019-02-26 07:43:00</td>\n",
       "      <td>LP001280</td>\n",
       "      <td>Hombre</td>\n",
       "      <td>Si</td>\n",
       "      <td>2</td>\n",
       "      <td>No Graduado</td>\n",
       "      <td>No</td>\n",
       "      <td>3333</td>\n",
       "      <td>2000.0</td>\n",
       "      <td>99.0</td>\n",
       "      <td>360.0</td>\n",
       "      <td>NaN</td>\n",
       "      <td>Semiurbana</td>\n",
       "      <td>Si</td>\n",
       "      <td>Pablo</td>\n",
       "    </tr>\n",
       "    <tr>\n",
       "      <th>3</th>\n",
       "      <td>2019-02-28 10:00:00</td>\n",
       "      <td>2019-03-01 12:57:00</td>\n",
       "      <td>LP002036</td>\n",
       "      <td>Hombre</td>\n",
       "      <td>Si</td>\n",
       "      <td>0</td>\n",
       "      <td>Graduado</td>\n",
       "      <td>No</td>\n",
       "      <td>2058</td>\n",
       "      <td>2134.0</td>\n",
       "      <td>88.0</td>\n",
       "      <td>360.0</td>\n",
       "      <td>NaN</td>\n",
       "      <td>Urabana</td>\n",
       "      <td>Si</td>\n",
       "      <td>Ana</td>\n",
       "    </tr>\n",
       "    <tr>\n",
       "      <th>7</th>\n",
       "      <td>2019-02-28 10:34:00</td>\n",
       "      <td>2019-03-01 13:43:00</td>\n",
       "      <td>LP002272</td>\n",
       "      <td>Hombre</td>\n",
       "      <td>Si</td>\n",
       "      <td>2</td>\n",
       "      <td>Graduado</td>\n",
       "      <td>No</td>\n",
       "      <td>3276</td>\n",
       "      <td>484.0</td>\n",
       "      <td>135.0</td>\n",
       "      <td>360.0</td>\n",
       "      <td>NaN</td>\n",
       "      <td>Semiurbana</td>\n",
       "      <td>Si</td>\n",
       "      <td>Ana</td>\n",
       "    </tr>\n",
       "    <tr>\n",
       "      <th>15</th>\n",
       "      <td>2019-02-28 10:14:00</td>\n",
       "      <td>2019-03-01 15:55:00</td>\n",
       "      <td>LP002448</td>\n",
       "      <td>Hombre</td>\n",
       "      <td>Si</td>\n",
       "      <td>0</td>\n",
       "      <td>Graduado</td>\n",
       "      <td>No</td>\n",
       "      <td>3948</td>\n",
       "      <td>1733.0</td>\n",
       "      <td>149.0</td>\n",
       "      <td>360.0</td>\n",
       "      <td>0.0</td>\n",
       "      <td>Rural</td>\n",
       "      <td>No</td>\n",
       "      <td>NaN</td>\n",
       "    </tr>\n",
       "    <tr>\n",
       "      <th>19</th>\n",
       "      <td>2019-02-26 07:21:00</td>\n",
       "      <td>2019-02-27 16:15:00</td>\n",
       "      <td>LP001788</td>\n",
       "      <td>Mujer</td>\n",
       "      <td>No</td>\n",
       "      <td>0</td>\n",
       "      <td>Graduado</td>\n",
       "      <td>Si</td>\n",
       "      <td>3463</td>\n",
       "      <td>0.0</td>\n",
       "      <td>122.0</td>\n",
       "      <td>360.0</td>\n",
       "      <td>NaN</td>\n",
       "      <td>Urabana</td>\n",
       "      <td>Si</td>\n",
       "      <td>Ana</td>\n",
       "    </tr>\n",
       "  </tbody>\n",
       "</table>\n",
       "</div>"
      ],
      "text/plain": [
       "        Fecha_registro      Fecha_contacto        Id  Genero Casado  \\\n",
       "1  2019-02-27 14:52:00 2019-02-26 07:43:00  LP001280  Hombre     Si   \n",
       "3  2019-02-28 10:00:00 2019-03-01 12:57:00  LP002036  Hombre     Si   \n",
       "7  2019-02-28 10:34:00 2019-03-01 13:43:00  LP002272  Hombre     Si   \n",
       "15 2019-02-28 10:14:00 2019-03-01 15:55:00  LP002448  Hombre     Si   \n",
       "19 2019-02-26 07:21:00 2019-02-27 16:15:00  LP001788   Mujer     No   \n",
       "\n",
       "   Dependientes    Educacion Trabaja_para_el  Salario  Salario_Pareja  \\\n",
       "1             2  No Graduado              No     3333          2000.0   \n",
       "3             0     Graduado              No     2058          2134.0   \n",
       "7             2     Graduado              No     3276           484.0   \n",
       "15            0     Graduado              No     3948          1733.0   \n",
       "19            0     Graduado              Si     3463             0.0   \n",
       "\n",
       "    Credito_pedido  Plazo_prestamo  Historial_crediticio Area_vivienda  \\\n",
       "1             99.0           360.0                   NaN    Semiurbana   \n",
       "3             88.0           360.0                   NaN       Urabana   \n",
       "7            135.0           360.0                   NaN    Semiurbana   \n",
       "15           149.0           360.0                   0.0         Rural   \n",
       "19           122.0           360.0                   NaN       Urabana   \n",
       "\n",
       "   Estatus_prestamo Asesor_asignado  \n",
       "1                Si           Pablo  \n",
       "3                Si             Ana  \n",
       "7                Si             Ana  \n",
       "15               No             NaN  \n",
       "19               Si             Ana  "
      ]
     },
     "execution_count": 11,
     "metadata": {},
     "output_type": "execute_result"
    }
   ],
   "source": [
    "null_df = dados_prestamo[dados_prestamo.isnull().any(axis=1)]\n",
    "null_df.head()"
   ]
  },
  {
   "cell_type": "code",
   "execution_count": 12,
   "id": "f096e900",
   "metadata": {},
   "outputs": [
    {
     "data": {
      "text/plain": [
       "0.38240574506283664"
      ]
     },
     "execution_count": 12,
     "metadata": {},
     "output_type": "execute_result"
    }
   ],
   "source": [
    "len(null_df)/len(dados_prestamo)"
   ]
  },
  {
   "cell_type": "markdown",
   "id": "b871743d",
   "metadata": {},
   "source": [
    "La columna 'Asesor_asignado' no están bien completada, lo que dificulta el análisis, por lo que decides eliminarla."
   ]
  },
  {
   "cell_type": "code",
   "execution_count": 13,
   "id": "7a491cc8",
   "metadata": {},
   "outputs": [],
   "source": [
    "dados_prestamo.drop('Asesor_asignado',axis=1,inplace=True)"
   ]
  },
  {
   "cell_type": "markdown",
   "id": "39c9d85a",
   "metadata": {},
   "source": [
    "Después de eliminar la columna anterior, la cantidad de valores nulos también cae a lo esperado."
   ]
  },
  {
   "cell_type": "code",
   "execution_count": 14,
   "id": "fcb116ff",
   "metadata": {},
   "outputs": [
    {
     "data": {
      "text/plain": [
       "0.21903052064631956"
      ]
     },
     "execution_count": 14,
     "metadata": {},
     "output_type": "execute_result"
    }
   ],
   "source": [
    "null_df = dados_prestamo[dados_prestamo.isnull().any(axis=1)]\n",
    "len(null_df)/len(dados_prestamo)"
   ]
  },
  {
   "cell_type": "code",
   "execution_count": 15,
   "id": "e476d311",
   "metadata": {},
   "outputs": [
    {
     "data": {
      "text/plain": [
       "435"
      ]
     },
     "execution_count": 15,
     "metadata": {},
     "output_type": "execute_result"
    }
   ],
   "source": [
    "dados_prestamo.dropna(inplace=True);len(dados_prestamo)"
   ]
  },
  {
   "cell_type": "markdown",
   "id": "f358c3ac",
   "metadata": {},
   "source": [
    "## Creando variables"
   ]
  },
  {
   "cell_type": "markdown",
   "id": "049f8272",
   "metadata": {},
   "source": [
    "Creando una varíable de día para ver cómo se comporta"
   ]
  },
  {
   "cell_type": "code",
   "execution_count": 16,
   "id": "bda7d6e3",
   "metadata": {},
   "outputs": [],
   "source": [
    "dados_prestamo['Fecha_registro_day'] = dados_prestamo['Fecha_registro'].dt.day\n",
    "dados_prestamo['Fecha_contacto_day'] = dados_prestamo['Fecha_contacto'].dt.day\n",
    "dados_prestamo['Fecha_registro_day']=dados_prestamo['Fecha_registro_day'].astype('object')\n",
    "dados_prestamo['Fecha_contacto_day']=dados_prestamo['Fecha_contacto_day'].astype('object')"
   ]
  },
  {
   "cell_type": "markdown",
   "id": "410348dc",
   "metadata": {},
   "source": [
    "# Análisis descriptivo"
   ]
  },
  {
   "cell_type": "code",
   "execution_count": 17,
   "id": "fbfbe907",
   "metadata": {},
   "outputs": [
    {
     "name": "stderr",
     "output_type": "stream",
     "text": [
      "C:\\Users\\User\\AppData\\Local\\Temp\\ipykernel_14680\\3286708866.py:11: UserWarning: Matplotlib is currently using module://matplotlib_inline.backend_inline, which is a non-GUI backend, so cannot show the figure.\n",
      "  fig.show()\n"
     ]
    },
    {
     "data": {
      "image/png": "[encoded data removed]",
      "text/plain": [
       "<Figure size 1200x600 with 8 Axes>"
      ]
     },
     "metadata": {},
     "output_type": "display_data"
    }
   ],
   "source": [
    "fig,ax = plt.subplots(2,4,sharex=True,sharey=True,figsize=(12,6))\n",
    "sns.histplot(binwidth = 0.5,x= \"Estatus_prestamo\", hue = \"Genero\",data= dados_prestamo,stat='count',multiple='stack',ax=ax[0][0])\n",
    "sns.histplot(binwidth = 0.5,x= \"Estatus_prestamo\", hue = \"Casado\",data= dados_prestamo,stat='count',multiple='stack',ax=ax[0][1])\n",
    "sns.histplot(binwidth = 0.5,x= \"Estatus_prestamo\", hue = \"Dependientes\",data= dados_prestamo,stat='count',multiple='stack',ax=ax[0][2])\n",
    "sns.histplot(binwidth = 0.5,x= \"Estatus_prestamo\", hue = \"Educacion\",data= dados_prestamo,stat='count',multiple='stack',ax=ax[0][3])\n",
    "sns.histplot(binwidth = 0.5,x= \"Estatus_prestamo\", hue = \"Trabaja_para_el\",data= dados_prestamo,stat='count',multiple='stack',ax=ax[1][0])\n",
    "sns.histplot(binwidth = 0.5,x= \"Estatus_prestamo\", hue = \"Area_vivienda\",data= dados_prestamo,multiple='stack',ax=ax[1][1])\n",
    "sns.histplot(binwidth = 0.5,x= \"Estatus_prestamo\", hue = \"Fecha_registro_day\",data= dados_prestamo,multiple='stack',ax=ax[1][2])\n",
    "sns.histplot(binwidth = 0.5,x= \"Estatus_prestamo\", hue = \"Fecha_contacto_day\",data= dados_prestamo,multiple='stack',ax=ax[1][3])\n",
    "\n",
    "fig.show()"
   ]
  },
  {
   "cell_type": "code",
   "execution_count": 18,
   "id": "ab550e63",
   "metadata": {},
   "outputs": [
    {
     "data": {
      "image/png": "[encoded data removed]",
      "text/plain": [
       "<Figure size 1200x600 with 4 Axes>"
      ]
     },
     "metadata": {},
     "output_type": "display_data"
    }
   ],
   "source": [
    "fig2,ax = plt.subplots(2,2,sharex=True, figsize=(12,6))\n",
    "sns.boxplot(data=dados_prestamo,x=\"Estatus_prestamo\",y=\"Salario\",ax=ax[0][0])\n",
    "sns.boxplot(data=dados_prestamo,x=\"Estatus_prestamo\",y=\"Salario_Pareja\",ax=ax[0][1])\n",
    "sns.boxplot(data=dados_prestamo,x=\"Estatus_prestamo\",y=\"Credito_pedido\", ax=ax[1][0])\n",
    "sns.boxplot(data=dados_prestamo,x=\"Estatus_prestamo\",y=\"Plazo_prestamo\", ax=ax[1][1])\n",
    "#sns.stripplot(data=dados_prestamo,x=\"Estatus_prestamo\",y=\"Historial_crediticio\", kind=\"bar\",height=1.2, aspect=4)\n",
    "\n",
    "plt.show()\n"
   ]
  },
  {
   "cell_type": "code",
   "execution_count": 19,
   "id": "42f86c1b",
   "metadata": {},
   "outputs": [
    {
     "data": {
      "image/png": "[encoded data removed]",
      "text/plain": [
       "<Figure size 640x480 with 1 Axes>"
      ]
     },
     "metadata": {},
     "output_type": "display_data"
    }
   ],
   "source": [
    "sns.countplot(x='Estatus_prestamo',data=dados_prestamo,palette='hls')\n",
    "plt.show()"
   ]
  },
  {
   "cell_type": "code",
   "execution_count": 20,
   "id": "53c6e9f5",
   "metadata": {},
   "outputs": [
    {
     "name": "stdout",
     "output_type": "stream",
     "text": [
      "Porcentaje de crédito concedido 79.08045977011494\n",
      "Porcentaje de crédito no concedido 20.919540229885058\n"
     ]
    }
   ],
   "source": [
    "concedido = len(dados_prestamo[dados_prestamo['Estatus_prestamo']==\"Si\"])/len(dados_prestamo)\n",
    "no_concedido = len(dados_prestamo[dados_prestamo['Estatus_prestamo']==\"No\"])/len(dados_prestamo)\n",
    "\n",
    "print(\"Porcentaje de crédito concedido\",concedido*100)\n",
    "print(\"Porcentaje de crédito no concedido\",no_concedido*100)"
   ]
  },
  {
   "cell_type": "markdown",
   "id": "b3195e6a",
   "metadata": {},
   "source": [
    "# gráfico de correlación"
   ]
  },
  {
   "cell_type": "markdown",
   "id": "6c39a8a6",
   "metadata": {},
   "source": [
    "## Variables continuas"
   ]
  },
  {
   "cell_type": "code",
   "execution_count": 21,
   "id": "9d4a93fd",
   "metadata": {},
   "outputs": [
    {
     "data": {
      "text/plain": [
       "<Axes: >"
      ]
     },
     "execution_count": 21,
     "metadata": {},
     "output_type": "execute_result"
    },
    {
     "data": {
      "image/png": "[encoded data removed]",
      "text/plain": [
       "<Figure size 800x300 with 2 Axes>"
      ]
     },
     "metadata": {},
     "output_type": "display_data"
    }
   ],
   "source": [
    "cormat_cont = dados_prestamo[['Salario','Salario_Pareja','Credito_pedido','Plazo_prestamo','Historial_crediticio']].corr(method='pearson')\n",
    "fig, ax = plt.subplots(figsize=(8, 3))\n",
    "sns.heatmap(cormat_cont)"
   ]
  },
  {
   "cell_type": "markdown",
   "id": "240a3bff",
   "metadata": {},
   "source": [
    "## variables categóricas"
   ]
  },
  {
   "cell_type": "code",
   "execution_count": 22,
   "id": "deb66bfb",
   "metadata": {},
   "outputs": [
    {
     "data": {
      "text/html": [
       "<div>\n",
       "<style scoped>\n",
       "    .dataframe tbody tr th:only-of-type {\n",
       "        vertical-align: middle;\n",
       "    }\n",
       "\n",
       "    .dataframe tbody tr th {\n",
       "        vertical-align: top;\n",
       "    }\n",
       "\n",
       "    .dataframe thead th {\n",
       "        text-align: right;\n",
       "    }\n",
       "</style>\n",
       "<table border=\"1\" class=\"dataframe\">\n",
       "  <thead>\n",
       "    <tr style=\"text-align: right;\">\n",
       "      <th></th>\n",
       "      <th>Genero</th>\n",
       "      <th>Casado</th>\n",
       "      <th>Dependientes</th>\n",
       "      <th>Educacion</th>\n",
       "      <th>Trabaja_para_el</th>\n",
       "      <th>Area_vivienda</th>\n",
       "      <th>Estatus_prestamo</th>\n",
       "      <th>Fecha_registro_day</th>\n",
       "      <th>Fecha_contacto_day</th>\n",
       "    </tr>\n",
       "  </thead>\n",
       "  <tbody>\n",
       "    <tr>\n",
       "      <th>0</th>\n",
       "      <td>Hombre</td>\n",
       "      <td>Si</td>\n",
       "      <td>3+</td>\n",
       "      <td>Graduado</td>\n",
       "      <td>No</td>\n",
       "      <td>Semiurbana</td>\n",
       "      <td>Si</td>\n",
       "      <td>26</td>\n",
       "      <td>27</td>\n",
       "    </tr>\n",
       "    <tr>\n",
       "      <th>2</th>\n",
       "      <td>Mujer</td>\n",
       "      <td>No</td>\n",
       "      <td>0</td>\n",
       "      <td>Graduado</td>\n",
       "      <td>No</td>\n",
       "      <td>Semiurbana</td>\n",
       "      <td>Si</td>\n",
       "      <td>27</td>\n",
       "      <td>28</td>\n",
       "    </tr>\n",
       "    <tr>\n",
       "      <th>4</th>\n",
       "      <td>Mujer</td>\n",
       "      <td>Si</td>\n",
       "      <td>0</td>\n",
       "      <td>Graduado</td>\n",
       "      <td>No</td>\n",
       "      <td>Semiurbana</td>\n",
       "      <td>Si</td>\n",
       "      <td>26</td>\n",
       "      <td>27</td>\n",
       "    </tr>\n",
       "    <tr>\n",
       "      <th>5</th>\n",
       "      <td>Mujer</td>\n",
       "      <td>Si</td>\n",
       "      <td>0</td>\n",
       "      <td>Graduado</td>\n",
       "      <td>No</td>\n",
       "      <td>Semiurbana</td>\n",
       "      <td>Si</td>\n",
       "      <td>27</td>\n",
       "      <td>28</td>\n",
       "    </tr>\n",
       "    <tr>\n",
       "      <th>6</th>\n",
       "      <td>Mujer</td>\n",
       "      <td>Si</td>\n",
       "      <td>0</td>\n",
       "      <td>Graduado</td>\n",
       "      <td>No</td>\n",
       "      <td>Semiurbana</td>\n",
       "      <td>Si</td>\n",
       "      <td>27</td>\n",
       "      <td>28</td>\n",
       "    </tr>\n",
       "    <tr>\n",
       "      <th>...</th>\n",
       "      <td>...</td>\n",
       "      <td>...</td>\n",
       "      <td>...</td>\n",
       "      <td>...</td>\n",
       "      <td>...</td>\n",
       "      <td>...</td>\n",
       "      <td>...</td>\n",
       "      <td>...</td>\n",
       "      <td>...</td>\n",
       "    </tr>\n",
       "    <tr>\n",
       "      <th>552</th>\n",
       "      <td>Mujer</td>\n",
       "      <td>Si</td>\n",
       "      <td>0</td>\n",
       "      <td>Graduado</td>\n",
       "      <td>No</td>\n",
       "      <td>Semiurbana</td>\n",
       "      <td>Si</td>\n",
       "      <td>27</td>\n",
       "      <td>28</td>\n",
       "    </tr>\n",
       "    <tr>\n",
       "      <th>553</th>\n",
       "      <td>Hombre</td>\n",
       "      <td>Si</td>\n",
       "      <td>1</td>\n",
       "      <td>Graduado</td>\n",
       "      <td>No</td>\n",
       "      <td>Semiurbana</td>\n",
       "      <td>No</td>\n",
       "      <td>27</td>\n",
       "      <td>28</td>\n",
       "    </tr>\n",
       "    <tr>\n",
       "      <th>554</th>\n",
       "      <td>Hombre</td>\n",
       "      <td>Si</td>\n",
       "      <td>2</td>\n",
       "      <td>Graduado</td>\n",
       "      <td>No</td>\n",
       "      <td>Urabana</td>\n",
       "      <td>Si</td>\n",
       "      <td>28</td>\n",
       "      <td>1</td>\n",
       "    </tr>\n",
       "    <tr>\n",
       "      <th>555</th>\n",
       "      <td>Hombre</td>\n",
       "      <td>Si</td>\n",
       "      <td>2</td>\n",
       "      <td>No Graduado</td>\n",
       "      <td>No</td>\n",
       "      <td>Semiurbana</td>\n",
       "      <td>Si</td>\n",
       "      <td>26</td>\n",
       "      <td>27</td>\n",
       "    </tr>\n",
       "    <tr>\n",
       "      <th>556</th>\n",
       "      <td>Hombre</td>\n",
       "      <td>No</td>\n",
       "      <td>0</td>\n",
       "      <td>Graduado</td>\n",
       "      <td>No</td>\n",
       "      <td>Rural</td>\n",
       "      <td>Si</td>\n",
       "      <td>26</td>\n",
       "      <td>27</td>\n",
       "    </tr>\n",
       "  </tbody>\n",
       "</table>\n",
       "<p>435 rows × 9 columns</p>\n",
       "</div>"
      ],
      "text/plain": [
       "     Genero Casado Dependientes    Educacion Trabaja_para_el Area_vivienda  \\\n",
       "0    Hombre     Si           3+     Graduado              No    Semiurbana   \n",
       "2     Mujer     No            0     Graduado              No    Semiurbana   \n",
       "4     Mujer     Si            0     Graduado              No    Semiurbana   \n",
       "5     Mujer     Si            0     Graduado              No    Semiurbana   \n",
       "6     Mujer     Si            0     Graduado              No    Semiurbana   \n",
       "..      ...    ...          ...          ...             ...           ...   \n",
       "552   Mujer     Si            0     Graduado              No    Semiurbana   \n",
       "553  Hombre     Si            1     Graduado              No    Semiurbana   \n",
       "554  Hombre     Si            2     Graduado              No       Urabana   \n",
       "555  Hombre     Si            2  No Graduado              No    Semiurbana   \n",
       "556  Hombre     No            0     Graduado              No         Rural   \n",
       "\n",
       "    Estatus_prestamo Fecha_registro_day Fecha_contacto_day  \n",
       "0                 Si                 26                 27  \n",
       "2                 Si                 27                 28  \n",
       "4                 Si                 26                 27  \n",
       "5                 Si                 27                 28  \n",
       "6                 Si                 27                 28  \n",
       "..               ...                ...                ...  \n",
       "552               Si                 27                 28  \n",
       "553               No                 27                 28  \n",
       "554               Si                 28                  1  \n",
       "555               Si                 26                 27  \n",
       "556               Si                 26                 27  \n",
       "\n",
       "[435 rows x 9 columns]"
      ]
     },
     "execution_count": 22,
     "metadata": {},
     "output_type": "execute_result"
    }
   ],
   "source": [
    "aux_cat = dados_prestamo.select_dtypes(include='object').copy()\n",
    "aux_cat.drop(['Id'],axis=1,inplace=True)\n",
    "aux_cat"
   ]
  },
  {
   "cell_type": "code",
   "execution_count": 23,
   "id": "c81c31d1",
   "metadata": {},
   "outputs": [],
   "source": [
    "from sklearn import preprocessing\n",
    "le = preprocessing.LabelEncoder()\n",
    "\n",
    "for i in range(0,aux_cat.shape[1]):\n",
    "    if aux_cat.dtypes[i]=='object':\n",
    "        aux_cat[aux_cat.columns[i]] = le.fit_transform(aux_cat[aux_cat.columns[i]])"
   ]
  },
  {
   "cell_type": "code",
   "execution_count": 24,
   "id": "4c9072a4",
   "metadata": {},
   "outputs": [],
   "source": [
    "cormat_cat = aux_cat.corr(method='spearman')"
   ]
  },
  {
   "cell_type": "code",
   "execution_count": 25,
   "id": "28f716a4",
   "metadata": {},
   "outputs": [
    {
     "data": {
      "text/plain": [
       "<Axes: >"
      ]
     },
     "execution_count": 25,
     "metadata": {},
     "output_type": "execute_result"
    },
    {
     "data": {
      "image/png": "[encoded data removed]",
      "text/plain": [
       "<Figure size 800x300 with 2 Axes>"
      ]
     },
     "metadata": {},
     "output_type": "display_data"
    }
   ],
   "source": [
    "fig, ax = plt.subplots(figsize=(8, 3))\n",
    "sns.heatmap(cormat_cat)"
   ]
  },
  {
   "cell_type": "markdown",
   "id": "d511f34d",
   "metadata": {},
   "source": [
    "## categóricas y continuas "
   ]
  },
  {
   "cell_type": "code",
   "execution_count": 26,
   "id": "bb44aef3",
   "metadata": {},
   "outputs": [],
   "source": [
    "dados_prestamo['Estatus_prestamo'] = le.fit_transform(dados_prestamo['Estatus_prestamo'])"
   ]
  },
  {
   "cell_type": "code",
   "execution_count": 27,
   "id": "7dde6cb3",
   "metadata": {},
   "outputs": [],
   "source": [
    "corr_df_bisec = dados_prestamo[['Salario','Salario_Pareja','Credito_pedido','Plazo_prestamo','Historial_crediticio']].corrwith(dados_prestamo['Estatus_prestamo'].astype(float),method=stats.pointbiserialr)"
   ]
  },
  {
   "cell_type": "code",
   "execution_count": 28,
   "id": "40a8c9e1",
   "metadata": {},
   "outputs": [
    {
     "data": {
      "text/html": [
       "<div>\n",
       "<style scoped>\n",
       "    .dataframe tbody tr th:only-of-type {\n",
       "        vertical-align: middle;\n",
       "    }\n",
       "\n",
       "    .dataframe tbody tr th {\n",
       "        vertical-align: top;\n",
       "    }\n",
       "\n",
       "    .dataframe thead th {\n",
       "        text-align: right;\n",
       "    }\n",
       "</style>\n",
       "<table border=\"1\" class=\"dataframe\">\n",
       "  <thead>\n",
       "    <tr style=\"text-align: right;\">\n",
       "      <th></th>\n",
       "      <th>Salario</th>\n",
       "      <th>Salario_Pareja</th>\n",
       "      <th>Credito_pedido</th>\n",
       "      <th>Plazo_prestamo</th>\n",
       "      <th>Historial_crediticio</th>\n",
       "    </tr>\n",
       "  </thead>\n",
       "  <tbody>\n",
       "    <tr>\n",
       "      <th>0</th>\n",
       "      <td>-0.090325</td>\n",
       "      <td>-0.084997</td>\n",
       "      <td>-0.126239</td>\n",
       "      <td>-0.051657</td>\n",
       "      <td>5.399372e-01</td>\n",
       "    </tr>\n",
       "    <tr>\n",
       "      <th>1</th>\n",
       "      <td>0.059794</td>\n",
       "      <td>0.076583</td>\n",
       "      <td>0.008392</td>\n",
       "      <td>0.282372</td>\n",
       "      <td>2.773442e-34</td>\n",
       "    </tr>\n",
       "  </tbody>\n",
       "</table>\n",
       "</div>"
      ],
      "text/plain": [
       "    Salario  Salario_Pareja  Credito_pedido  Plazo_prestamo  \\\n",
       "0 -0.090325       -0.084997       -0.126239       -0.051657   \n",
       "1  0.059794        0.076583        0.008392        0.282372   \n",
       "\n",
       "   Historial_crediticio  \n",
       "0          5.399372e-01  \n",
       "1          2.773442e-34  "
      ]
     },
     "execution_count": 28,
     "metadata": {},
     "output_type": "execute_result"
    }
   ],
   "source": [
    "corr_df_bisec"
   ]
  },
  {
   "cell_type": "code",
   "execution_count": 29,
   "id": "6948a58d",
   "metadata": {},
   "outputs": [
    {
     "data": {
      "image/png": "[encoded data removed]",
      "text/plain": [
       "<Figure size 800x300 with 2 Axes>"
      ]
     },
     "metadata": {},
     "output_type": "display_data"
    }
   ],
   "source": [
    "fig,ax = plt.subplots(figsize=(8,3))\n",
    "sns.heatmap(corr_df_bisec)\n",
    "plt.show()"
   ]
  },
  {
   "cell_type": "markdown",
   "id": "8d1c0cef",
   "metadata": {},
   "source": [
    "Antes de continuar, es importante hacer algunas observaciones.\n",
    "- los datos están desequilibrados;\n",
    "- las variables con mayor correlación con la variables respuesta, y por lo tanto parecen buenos predictores, son Plazo_prestamo y Casado;\n",
    "- el promedio de la variable Credito_pedido es mayor para el grupo que el crédito no fue aprobado;"
   ]
  },
  {
   "cell_type": "markdown",
   "id": "e2259141",
   "metadata": {},
   "source": [
    "# Modelado"
   ]
  },
  {
   "cell_type": "markdown",
   "id": "5e61f321",
   "metadata": {},
   "source": [
    "## Creando dummy variables "
   ]
  },
  {
   "cell_type": "code",
   "execution_count": 30,
   "id": "e869e743",
   "metadata": {},
   "outputs": [
    {
     "data": {
      "text/plain": [
       "Index(['Genero', 'Casado', 'Dependientes', 'Educacion', 'Trabaja_para_el',\n",
       "       'Area_vivienda', 'Estatus_prestamo', 'Fecha_registro_day',\n",
       "       'Fecha_contacto_day'],\n",
       "      dtype='object')"
      ]
     },
     "execution_count": 30,
     "metadata": {},
     "output_type": "execute_result"
    }
   ],
   "source": [
    "aux_cat.columns"
   ]
  },
  {
   "cell_type": "code",
   "execution_count": 31,
   "id": "a71dfb8e",
   "metadata": {},
   "outputs": [],
   "source": [
    "cat_vars = ['Historial_crediticio','Genero', 'Casado', 'Dependientes', 'Educacion', 'Trabaja_para_el','Area_vivienda', 'Fecha_registro_day',\n",
    "            'Fecha_contacto_day']\n",
    "for var in cat_vars:\n",
    "    cat_list='var'+'_'+var\n",
    "    cat_list = pd.get_dummies(dados_prestamo[var], prefix=var)\n",
    "    data1=dados_prestamo.join(cat_list)\n",
    "    dados_prestamo=data1\n",
    "cat_vars=['Historial_crediticio','Genero', 'Casado', 'Dependientes', 'Educacion', 'Trabaja_para_el','Area_vivienda', 'Fecha_registro_day',\n",
    "            'Fecha_contacto_day']\n",
    "data_vars=dados_prestamo.columns.values.tolist()\n",
    "to_keep=[i for i in data_vars if i not in cat_vars]\n"
   ]
  },
  {
   "cell_type": "markdown",
   "id": "5c206e75",
   "metadata": {},
   "source": [
    "Las variables finales son"
   ]
  },
  {
   "cell_type": "code",
   "execution_count": 32,
   "id": "7f3d1a5c",
   "metadata": {},
   "outputs": [
    {
     "name": "stderr",
     "output_type": "stream",
     "text": [
      "C:\\Users\\User\\AppData\\Local\\Temp\\ipykernel_14680\\425477872.py:2: SettingWithCopyWarning: \n",
      "A value is trying to be set on a copy of a slice from a DataFrame\n",
      "\n",
      "See the caveats in the documentation: https://pandas.pydata.org/pandas-docs/stable/user_guide/indexing.html#returning-a-view-versus-a-copy\n",
      "  data_final.drop(['Fecha_registro','Fecha_contacto','Id'],axis=1,inplace=True)\n"
     ]
    },
    {
     "data": {
      "text/plain": [
       "array(['Salario', 'Salario_Pareja', 'Credito_pedido', 'Plazo_prestamo',\n",
       "       'Estatus_prestamo', 'Historial_crediticio_0.0',\n",
       "       'Historial_crediticio_1.0', 'Genero_Hombre', 'Genero_Mujer',\n",
       "       'Casado_No', 'Casado_Si', 'Dependientes_0', 'Dependientes_1',\n",
       "       'Dependientes_2', 'Dependientes_3+', 'Educacion_Graduado',\n",
       "       'Educacion_No Graduado', 'Trabaja_para_el_No',\n",
       "       'Trabaja_para_el_Si', 'Area_vivienda_Rural',\n",
       "       'Area_vivienda_Semiurbana', 'Area_vivienda_Urabana',\n",
       "       'Fecha_registro_day_1', 'Fecha_registro_day_26',\n",
       "       'Fecha_registro_day_27', 'Fecha_registro_day_28',\n",
       "       'Fecha_contacto_day_1', 'Fecha_contacto_day_26',\n",
       "       'Fecha_contacto_day_27', 'Fecha_contacto_day_28'], dtype=object)"
      ]
     },
     "execution_count": 32,
     "metadata": {},
     "output_type": "execute_result"
    }
   ],
   "source": [
    "data_final=dados_prestamo[to_keep]\n",
    "data_final.drop(['Fecha_registro','Fecha_contacto','Id'],axis=1,inplace=True)\n",
    "data_final.columns.values"
   ]
  },
  {
   "cell_type": "code",
   "execution_count": 33,
   "id": "02ed0744",
   "metadata": {},
   "outputs": [],
   "source": [
    "X = data_final.loc[:, data_final.columns != 'Estatus_prestamo']\n",
    "y = data_final.loc[:, data_final.columns == 'Estatus_prestamo']\n",
    "\n",
    "X_train, X_test, y_train, y_test = train_test_split(X, y, test_size=0.3, random_state=0)\n",
    "columns = X_train.columns\n",
    "\n",
    "os_data_X = pd.DataFrame(data=X,columns=columns )\n",
    "os_data_y= pd.DataFrame(data=y,columns=['Estatus_prestamo'])"
   ]
  },
  {
   "cell_type": "markdown",
   "id": "ba96cf14",
   "metadata": {},
   "source": [
    "## Recursive feature elimination"
   ]
  },
  {
   "cell_type": "code",
   "execution_count": 34,
   "id": "c42a7bdc",
   "metadata": {},
   "outputs": [
    {
     "name": "stdout",
     "output_type": "stream",
     "text": [
      "[False False False False  True  True  True False  True  True  True  True\n",
      "  True False  True False  True False  True  True False False False  True\n",
      " False False False False  True]\n",
      "[2 2 2 2 1 1 1 2 1 1 1 1 1 2 1 2 1 2 1 1 2 2 2 1 2 2 2 2 1]\n"
     ]
    }
   ],
   "source": [
    "data_final_vars=data_final.columns.values.tolist()\n",
    "y=['Estatus_prestamo']\n",
    "X=[i for i in data_final_vars if i not in y]\n",
    "from sklearn.feature_selection import RFE\n",
    "from sklearn.linear_model import LogisticRegression\n",
    "logreg = LogisticRegression()\n",
    "rfe = RFE(logreg,step= 20)\n",
    "rfe = rfe.fit(os_data_X, os_data_y.values.ravel())\n",
    "print(rfe.support_)\n",
    "print(rfe.ranking_)"
   ]
  },
  {
   "cell_type": "code",
   "execution_count": 35,
   "id": "40b80d05",
   "metadata": {},
   "outputs": [
    {
     "data": {
      "text/plain": [
       "['Salario',\n",
       " 'Salario_Pareja',\n",
       " 'Credito_pedido',\n",
       " 'Plazo_prestamo',\n",
       " 'Historial_crediticio_0.0',\n",
       " 'Historial_crediticio_1.0',\n",
       " 'Genero_Hombre',\n",
       " 'Genero_Mujer',\n",
       " 'Casado_No',\n",
       " 'Casado_Si',\n",
       " 'Dependientes_0',\n",
       " 'Dependientes_1',\n",
       " 'Dependientes_2',\n",
       " 'Dependientes_3+',\n",
       " 'Educacion_Graduado',\n",
       " 'Educacion_No Graduado',\n",
       " 'Trabaja_para_el_No',\n",
       " 'Trabaja_para_el_Si',\n",
       " 'Area_vivienda_Rural',\n",
       " 'Area_vivienda_Semiurbana',\n",
       " 'Area_vivienda_Urabana',\n",
       " 'Fecha_registro_day_1',\n",
       " 'Fecha_registro_day_26',\n",
       " 'Fecha_registro_day_27',\n",
       " 'Fecha_registro_day_28',\n",
       " 'Fecha_contacto_day_1',\n",
       " 'Fecha_contacto_day_26',\n",
       " 'Fecha_contacto_day_27',\n",
       " 'Fecha_contacto_day_28']"
      ]
     },
     "execution_count": 35,
     "metadata": {},
     "output_type": "execute_result"
    }
   ],
   "source": [
    "X"
   ]
  },
  {
   "cell_type": "markdown",
   "id": "0782fd43",
   "metadata": {},
   "source": [
    "La técnica de eliminación das features nos ayudó a selecionar las seguientes variables  'Historial_crediticio','Genero_Hombre','Casado_Si','Dependientes_0','Dependientes_1','Dependientes_2','Educacion_Graduado',\n",
    " 'Educacion_No Graduado','Trabaja_para_el_No','Area_vivienda_Rural','Area_vivienda_Semiurbana','Area_vivienda_Urabana', 'Fecha_registro_day_27','Fecha_contacto_day_28'"
   ]
  },
  {
   "cell_type": "code",
   "execution_count": 36,
   "id": "4e65c9ea",
   "metadata": {},
   "outputs": [],
   "source": [
    "cols=['Historial_crediticio_0.0','Historial_crediticio_1.0','Genero_Hombre','Casado_Si','Dependientes_0','Dependientes_1','Dependientes_2','Educacion_Graduado',\n",
    " 'Educacion_No Graduado','Trabaja_para_el_No','Area_vivienda_Rural','Area_vivienda_Semiurbana','Area_vivienda_Urabana', 'Fecha_registro_day_27','Fecha_contacto_day_28'] \n",
    "X=os_data_X[cols]\n",
    "y=os_data_y['Estatus_prestamo']"
   ]
  },
  {
   "cell_type": "markdown",
   "id": "e58948fb",
   "metadata": {},
   "source": [
    "## implementando el modelo"
   ]
  },
  {
   "cell_type": "code",
   "execution_count": 37,
   "id": "718bc042",
   "metadata": {},
   "outputs": [
    {
     "data": {
      "text/html": [
       "<div>\n",
       "<style scoped>\n",
       "    .dataframe tbody tr th:only-of-type {\n",
       "        vertical-align: middle;\n",
       "    }\n",
       "\n",
       "    .dataframe tbody tr th {\n",
       "        vertical-align: top;\n",
       "    }\n",
       "\n",
       "    .dataframe thead th {\n",
       "        text-align: right;\n",
       "    }\n",
       "</style>\n",
       "<table border=\"1\" class=\"dataframe\">\n",
       "  <thead>\n",
       "    <tr style=\"text-align: right;\">\n",
       "      <th></th>\n",
       "      <th>Historial_crediticio_0.0</th>\n",
       "      <th>Historial_crediticio_1.0</th>\n",
       "      <th>Genero_Hombre</th>\n",
       "      <th>Casado_Si</th>\n",
       "      <th>Dependientes_0</th>\n",
       "      <th>Dependientes_1</th>\n",
       "      <th>Dependientes_2</th>\n",
       "      <th>Educacion_Graduado</th>\n",
       "      <th>Educacion_No Graduado</th>\n",
       "      <th>Trabaja_para_el_No</th>\n",
       "      <th>Area_vivienda_Rural</th>\n",
       "      <th>Area_vivienda_Semiurbana</th>\n",
       "      <th>Area_vivienda_Urabana</th>\n",
       "      <th>Fecha_registro_day_27</th>\n",
       "      <th>Fecha_contacto_day_28</th>\n",
       "    </tr>\n",
       "  </thead>\n",
       "  <tbody>\n",
       "    <tr>\n",
       "      <th>0</th>\n",
       "      <td>False</td>\n",
       "      <td>True</td>\n",
       "      <td>True</td>\n",
       "      <td>True</td>\n",
       "      <td>False</td>\n",
       "      <td>False</td>\n",
       "      <td>False</td>\n",
       "      <td>True</td>\n",
       "      <td>False</td>\n",
       "      <td>True</td>\n",
       "      <td>False</td>\n",
       "      <td>True</td>\n",
       "      <td>False</td>\n",
       "      <td>False</td>\n",
       "      <td>False</td>\n",
       "    </tr>\n",
       "    <tr>\n",
       "      <th>2</th>\n",
       "      <td>False</td>\n",
       "      <td>True</td>\n",
       "      <td>False</td>\n",
       "      <td>False</td>\n",
       "      <td>True</td>\n",
       "      <td>False</td>\n",
       "      <td>False</td>\n",
       "      <td>True</td>\n",
       "      <td>False</td>\n",
       "      <td>True</td>\n",
       "      <td>False</td>\n",
       "      <td>True</td>\n",
       "      <td>False</td>\n",
       "      <td>True</td>\n",
       "      <td>True</td>\n",
       "    </tr>\n",
       "    <tr>\n",
       "      <th>4</th>\n",
       "      <td>False</td>\n",
       "      <td>True</td>\n",
       "      <td>False</td>\n",
       "      <td>True</td>\n",
       "      <td>True</td>\n",
       "      <td>False</td>\n",
       "      <td>False</td>\n",
       "      <td>True</td>\n",
       "      <td>False</td>\n",
       "      <td>True</td>\n",
       "      <td>False</td>\n",
       "      <td>True</td>\n",
       "      <td>False</td>\n",
       "      <td>False</td>\n",
       "      <td>False</td>\n",
       "    </tr>\n",
       "    <tr>\n",
       "      <th>5</th>\n",
       "      <td>False</td>\n",
       "      <td>True</td>\n",
       "      <td>False</td>\n",
       "      <td>True</td>\n",
       "      <td>True</td>\n",
       "      <td>False</td>\n",
       "      <td>False</td>\n",
       "      <td>True</td>\n",
       "      <td>False</td>\n",
       "      <td>True</td>\n",
       "      <td>False</td>\n",
       "      <td>True</td>\n",
       "      <td>False</td>\n",
       "      <td>True</td>\n",
       "      <td>True</td>\n",
       "    </tr>\n",
       "    <tr>\n",
       "      <th>6</th>\n",
       "      <td>False</td>\n",
       "      <td>True</td>\n",
       "      <td>False</td>\n",
       "      <td>True</td>\n",
       "      <td>True</td>\n",
       "      <td>False</td>\n",
       "      <td>False</td>\n",
       "      <td>True</td>\n",
       "      <td>False</td>\n",
       "      <td>True</td>\n",
       "      <td>False</td>\n",
       "      <td>True</td>\n",
       "      <td>False</td>\n",
       "      <td>True</td>\n",
       "      <td>True</td>\n",
       "    </tr>\n",
       "    <tr>\n",
       "      <th>...</th>\n",
       "      <td>...</td>\n",
       "      <td>...</td>\n",
       "      <td>...</td>\n",
       "      <td>...</td>\n",
       "      <td>...</td>\n",
       "      <td>...</td>\n",
       "      <td>...</td>\n",
       "      <td>...</td>\n",
       "      <td>...</td>\n",
       "      <td>...</td>\n",
       "      <td>...</td>\n",
       "      <td>...</td>\n",
       "      <td>...</td>\n",
       "      <td>...</td>\n",
       "      <td>...</td>\n",
       "    </tr>\n",
       "    <tr>\n",
       "      <th>552</th>\n",
       "      <td>False</td>\n",
       "      <td>True</td>\n",
       "      <td>False</td>\n",
       "      <td>True</td>\n",
       "      <td>True</td>\n",
       "      <td>False</td>\n",
       "      <td>False</td>\n",
       "      <td>True</td>\n",
       "      <td>False</td>\n",
       "      <td>True</td>\n",
       "      <td>False</td>\n",
       "      <td>True</td>\n",
       "      <td>False</td>\n",
       "      <td>True</td>\n",
       "      <td>True</td>\n",
       "    </tr>\n",
       "    <tr>\n",
       "      <th>553</th>\n",
       "      <td>True</td>\n",
       "      <td>False</td>\n",
       "      <td>True</td>\n",
       "      <td>True</td>\n",
       "      <td>False</td>\n",
       "      <td>True</td>\n",
       "      <td>False</td>\n",
       "      <td>True</td>\n",
       "      <td>False</td>\n",
       "      <td>True</td>\n",
       "      <td>False</td>\n",
       "      <td>True</td>\n",
       "      <td>False</td>\n",
       "      <td>True</td>\n",
       "      <td>True</td>\n",
       "    </tr>\n",
       "    <tr>\n",
       "      <th>554</th>\n",
       "      <td>False</td>\n",
       "      <td>True</td>\n",
       "      <td>True</td>\n",
       "      <td>True</td>\n",
       "      <td>False</td>\n",
       "      <td>False</td>\n",
       "      <td>True</td>\n",
       "      <td>True</td>\n",
       "      <td>False</td>\n",
       "      <td>True</td>\n",
       "      <td>False</td>\n",
       "      <td>False</td>\n",
       "      <td>True</td>\n",
       "      <td>False</td>\n",
       "      <td>False</td>\n",
       "    </tr>\n",
       "    <tr>\n",
       "      <th>555</th>\n",
       "      <td>False</td>\n",
       "      <td>True</td>\n",
       "      <td>True</td>\n",
       "      <td>True</td>\n",
       "      <td>False</td>\n",
       "      <td>False</td>\n",
       "      <td>True</td>\n",
       "      <td>False</td>\n",
       "      <td>True</td>\n",
       "      <td>True</td>\n",
       "      <td>False</td>\n",
       "      <td>True</td>\n",
       "      <td>False</td>\n",
       "      <td>False</td>\n",
       "      <td>False</td>\n",
       "    </tr>\n",
       "    <tr>\n",
       "      <th>556</th>\n",
       "      <td>False</td>\n",
       "      <td>True</td>\n",
       "      <td>True</td>\n",
       "      <td>False</td>\n",
       "      <td>True</td>\n",
       "      <td>False</td>\n",
       "      <td>False</td>\n",
       "      <td>True</td>\n",
       "      <td>False</td>\n",
       "      <td>True</td>\n",
       "      <td>True</td>\n",
       "      <td>False</td>\n",
       "      <td>False</td>\n",
       "      <td>False</td>\n",
       "      <td>False</td>\n",
       "    </tr>\n",
       "  </tbody>\n",
       "</table>\n",
       "<p>435 rows × 15 columns</p>\n",
       "</div>"
      ],
      "text/plain": [
       "     Historial_crediticio_0.0  Historial_crediticio_1.0  Genero_Hombre  \\\n",
       "0                       False                      True           True   \n",
       "2                       False                      True          False   \n",
       "4                       False                      True          False   \n",
       "5                       False                      True          False   \n",
       "6                       False                      True          False   \n",
       "..                        ...                       ...            ...   \n",
       "552                     False                      True          False   \n",
       "553                      True                     False           True   \n",
       "554                     False                      True           True   \n",
       "555                     False                      True           True   \n",
       "556                     False                      True           True   \n",
       "\n",
       "     Casado_Si  Dependientes_0  Dependientes_1  Dependientes_2  \\\n",
       "0         True           False           False           False   \n",
       "2        False            True           False           False   \n",
       "4         True            True           False           False   \n",
       "5         True            True           False           False   \n",
       "6         True            True           False           False   \n",
       "..         ...             ...             ...             ...   \n",
       "552       True            True           False           False   \n",
       "553       True           False            True           False   \n",
       "554       True           False           False            True   \n",
       "555       True           False           False            True   \n",
       "556      False            True           False           False   \n",
       "\n",
       "     Educacion_Graduado  Educacion_No Graduado  Trabaja_para_el_No  \\\n",
       "0                  True                  False                True   \n",
       "2                  True                  False                True   \n",
       "4                  True                  False                True   \n",
       "5                  True                  False                True   \n",
       "6                  True                  False                True   \n",
       "..                  ...                    ...                 ...   \n",
       "552                True                  False                True   \n",
       "553                True                  False                True   \n",
       "554                True                  False                True   \n",
       "555               False                   True                True   \n",
       "556                True                  False                True   \n",
       "\n",
       "     Area_vivienda_Rural  Area_vivienda_Semiurbana  Area_vivienda_Urabana  \\\n",
       "0                  False                      True                  False   \n",
       "2                  False                      True                  False   \n",
       "4                  False                      True                  False   \n",
       "5                  False                      True                  False   \n",
       "6                  False                      True                  False   \n",
       "..                   ...                       ...                    ...   \n",
       "552                False                      True                  False   \n",
       "553                False                      True                  False   \n",
       "554                False                     False                   True   \n",
       "555                False                      True                  False   \n",
       "556                 True                     False                  False   \n",
       "\n",
       "     Fecha_registro_day_27  Fecha_contacto_day_28  \n",
       "0                    False                  False  \n",
       "2                     True                   True  \n",
       "4                    False                  False  \n",
       "5                     True                   True  \n",
       "6                     True                   True  \n",
       "..                     ...                    ...  \n",
       "552                   True                   True  \n",
       "553                   True                   True  \n",
       "554                  False                  False  \n",
       "555                  False                  False  \n",
       "556                  False                  False  \n",
       "\n",
       "[435 rows x 15 columns]"
      ]
     },
     "execution_count": 37,
     "metadata": {},
     "output_type": "execute_result"
    }
   ],
   "source": [
    "X"
   ]
  },
  {
   "cell_type": "code",
   "execution_count": 38,
   "id": "b939ba8d",
   "metadata": {},
   "outputs": [
    {
     "name": "stdout",
     "output_type": "stream",
     "text": [
      "Optimization terminated successfully.\n",
      "         Current function value: 0.370193\n",
      "         Iterations 9\n",
      "                                      Results: Logit\n",
      "==========================================================================================\n",
      "Model:                       Logit                    Method:                   MLE       \n",
      "Dependent Variable:          Estatus_prestamo         Pseudo R-squared:         0.278     \n",
      "Date:                        2024-01-16 18:23         AIC:                      348.0675  \n",
      "No. Observations:            435                      BIC:                      401.0470  \n",
      "Df Model:                    12                       Log-Likelihood:           -161.03   \n",
      "Df Residuals:                422                      LL-Null:                  -223.11   \n",
      "Converged:                   1.0000                   LLR p-value:              9.1889e-21\n",
      "No. Iterations:              9.0000                   Scale:                    1.0000    \n",
      "------------------------------------------------------------------------------------------\n",
      "                          Coef.     Std.Err.      z    P>|z|      [0.025         0.975]   \n",
      "------------------------------------------------------------------------------------------\n",
      "Historial_crediticio_0.0 -2.0816  7903026.1897 -0.0000 1.0000 -15489648.7823 15489644.6191\n",
      "Historial_crediticio_1.0  1.6980  7903026.1897  0.0000 1.0000 -15489645.0027 15489648.3988\n",
      "Genero_Hombre             0.2323        0.3898  0.5959 0.5512        -0.5317        0.9963\n",
      "Casado_Si                 0.5575        0.3447  1.6173 0.1058        -0.1181        1.2331\n",
      "Dependientes_0           -0.0979        0.5545 -0.1766 0.8599        -1.1846        0.9888\n",
      "Dependientes_1           -0.5789        0.6132 -0.9441 0.3451        -1.7808        0.6229\n",
      "Dependientes_2            0.2318        0.6444  0.3597 0.7191        -1.0312        1.4947\n",
      "Educacion_Graduado       -0.1498 19673790.6745 -0.0000 1.0000 -38559921.3112 38559921.0117\n",
      "Educacion_No Graduado    -0.2338 19673790.6745 -0.0000 1.0000 -38559921.3953 38559920.9277\n",
      "Trabaja_para_el_No       -0.1016        0.4451 -0.2282 0.8195        -0.9739        0.7708\n",
      "Area_vivienda_Rural      -0.6722 25740989.9939 -0.0000 1.0000 -50451413.9866 50451412.6423\n",
      "Area_vivienda_Semiurbana  0.4825 25740989.9939  0.0000 1.0000 -50451412.8319 50451413.7970\n",
      "Area_vivienda_Urabana    -0.1939 25740989.9939 -0.0000 1.0000 -50451413.5084 50451413.1205\n",
      "Fecha_registro_day_27    -0.1256        1.9942 -0.0630 0.9498        -4.0341        3.7830\n",
      "Fecha_contacto_day_28     0.6695        1.9942  0.3357 0.7371        -3.2391        4.5781\n",
      "==========================================================================================\n",
      "\n"
     ]
    }
   ],
   "source": [
    "import statsmodels.api as sm\n",
    "logit_model=sm.Logit(y,X)\n",
    "result=logit_model.fit()\n",
    "print(result.summary2())"
   ]
  },
  {
   "cell_type": "markdown",
   "id": "4e275393",
   "metadata": {},
   "source": [
    "## Ajuste del modelo de regresión logística"
   ]
  },
  {
   "cell_type": "code",
   "execution_count": 39,
   "id": "27f9fa12",
   "metadata": {},
   "outputs": [
    {
     "data": {
      "text/html": [
       "<style>#sk-container-id-1 {color: black;}#sk-container-id-1 pre{padding: 0;}#sk-container-id-1 div.sk-toggleable {background-color: white;}#sk-container-id-1 label.sk-toggleable__label {cursor: pointer;display: block;width: 100%;margin-bottom: 0;padding: 0.3em;box-sizing: border-box;text-align: center;}#sk-container-id-1 label.sk-toggleable__label-arrow:before {content: \"▸\";float: left;margin-right: 0.25em;color: #696969;}#sk-container-id-1 label.sk-toggleable__label-arrow:hover:before {color: black;}#sk-container-id-1 div.sk-estimator:hover label.sk-toggleable__label-arrow:before {color: black;}#sk-container-id-1 div.sk-toggleable__content {max-height: 0;max-width: 0;overflow: hidden;text-align: left;background-color: #f0f8ff;}#sk-container-id-1 div.sk-toggleable__content pre {margin: 0.2em;color: black;border-radius: 0.25em;background-color: #f0f8ff;}#sk-container-id-1 input.sk-toggleable__control:checked~div.sk-toggleable__content {max-height: 200px;max-width: 100%;overflow: auto;}#sk-container-id-1 input.sk-toggleable__control:checked~label.sk-toggleable__label-arrow:before {content: \"▾\";}#sk-container-id-1 div.sk-estimator input.sk-toggleable__control:checked~label.sk-toggleable__label {background-color: #d4ebff;}#sk-container-id-1 div.sk-label input.sk-toggleable__control:checked~label.sk-toggleable__label {background-color: #d4ebff;}#sk-container-id-1 input.sk-hidden--visually {border: 0;clip: rect(1px 1px 1px 1px);clip: rect(1px, 1px, 1px, 1px);height: 1px;margin: -1px;overflow: hidden;padding: 0;position: absolute;width: 1px;}#sk-container-id-1 div.sk-estimator {font-family: monospace;background-color: #f0f8ff;border: 1px dotted black;border-radius: 0.25em;box-sizing: border-box;margin-bottom: 0.5em;}#sk-container-id-1 div.sk-estimator:hover {background-color: #d4ebff;}#sk-container-id-1 div.sk-parallel-item::after {content: \"\";width: 100%;border-bottom: 1px solid gray;flex-grow: 1;}#sk-container-id-1 div.sk-label:hover label.sk-toggleable__label {background-color: #d4ebff;}#sk-container-id-1 div.sk-serial::before {content: \"\";position: absolute;border-left: 1px solid gray;box-sizing: border-box;top: 0;bottom: 0;left: 50%;z-index: 0;}#sk-container-id-1 div.sk-serial {display: flex;flex-direction: column;align-items: center;background-color: white;padding-right: 0.2em;padding-left: 0.2em;position: relative;}#sk-container-id-1 div.sk-item {position: relative;z-index: 1;}#sk-container-id-1 div.sk-parallel {display: flex;align-items: stretch;justify-content: center;background-color: white;position: relative;}#sk-container-id-1 div.sk-item::before, #sk-container-id-1 div.sk-parallel-item::before {content: \"\";position: absolute;border-left: 1px solid gray;box-sizing: border-box;top: 0;bottom: 0;left: 50%;z-index: -1;}#sk-container-id-1 div.sk-parallel-item {display: flex;flex-direction: column;z-index: 1;position: relative;background-color: white;}#sk-container-id-1 div.sk-parallel-item:first-child::after {align-self: flex-end;width: 50%;}#sk-container-id-1 div.sk-parallel-item:last-child::after {align-self: flex-start;width: 50%;}#sk-container-id-1 div.sk-parallel-item:only-child::after {width: 0;}#sk-container-id-1 div.sk-dashed-wrapped {border: 1px dashed gray;margin: 0 0.4em 0.5em 0.4em;box-sizing: border-box;padding-bottom: 0.4em;background-color: white;}#sk-container-id-1 div.sk-label label {font-family: monospace;font-weight: bold;display: inline-block;line-height: 1.2em;}#sk-container-id-1 div.sk-label-container {text-align: center;}#sk-container-id-1 div.sk-container {/* jupyter's `normalize.less` sets `[hidden] { display: none; }` but bootstrap.min.css set `[hidden] { display: none !important; }` so we also need the `!important` here to be able to override the default hidden behavior on the sphinx rendered scikit-learn.org. See: https://github.com/scikit-learn/scikit-learn/issues/21755 */display: inline-block !important;position: relative;}#sk-container-id-1 div.sk-text-repr-fallback {display: none;}</style><div id=\"sk-container-id-1\" class=\"sk-top-container\"><div class=\"sk-text-repr-fallback\"><pre>LogisticRegression()</pre><b>In a Jupyter environment, please rerun this cell to show the HTML representation or trust the notebook. <br />On GitHub, the HTML representation is unable to render, please try loading this page with nbviewer.org.</b></div><div class=\"sk-container\" hidden><div class=\"sk-item\"><div class=\"sk-estimator sk-toggleable\"><input class=\"sk-toggleable__control sk-hidden--visually\" id=\"sk-estimator-id-1\" type=\"checkbox\" checked><label for=\"sk-estimator-id-1\" class=\"sk-toggleable__label sk-toggleable__label-arrow\">LogisticRegression</label><div class=\"sk-toggleable__content\"><pre>LogisticRegression()</pre></div></div></div></div></div>"
      ],
      "text/plain": [
       "LogisticRegression()"
      ]
     },
     "execution_count": 39,
     "metadata": {},
     "output_type": "execute_result"
    }
   ],
   "source": [
    "from sklearn.linear_model import LogisticRegression\n",
    "from sklearn import metrics\n",
    "X_train, X_test, y_train, y_test = train_test_split(X, y, test_size=0.3, random_state=0)\n",
    "logreg = LogisticRegression()\n",
    "logreg.fit(X_train, y_train)"
   ]
  },
  {
   "cell_type": "markdown",
   "id": "85482c20",
   "metadata": {},
   "source": [
    "# Validación"
   ]
  },
  {
   "cell_type": "markdown",
   "id": "e9ed368e",
   "metadata": {},
   "source": [
    "## Predicir en el grupo de prueba y calculaar la precisión"
   ]
  },
  {
   "cell_type": "code",
   "execution_count": 40,
   "id": "21a9ed44",
   "metadata": {},
   "outputs": [
    {
     "name": "stdout",
     "output_type": "stream",
     "text": [
      "Precisión en el modelo de regresión en el grupo de prueba: 0.85\n"
     ]
    }
   ],
   "source": [
    "y_pred = logreg.predict(X_test)\n",
    "print('Precisión en el modelo de regresión en el grupo de prueba: {:.2f}'.format(logreg.score(X_test, y_test)))"
   ]
  },
  {
   "cell_type": "markdown",
   "id": "69c2077f",
   "metadata": {},
   "source": [
    "## Matriz de confusión"
   ]
  },
  {
   "cell_type": "code",
   "execution_count": 41,
   "id": "950f517c",
   "metadata": {},
   "outputs": [
    {
     "name": "stdout",
     "output_type": "stream",
     "text": [
      "[[ 11  16]\n",
      " [  4 100]]\n"
     ]
    }
   ],
   "source": [
    "from sklearn.metrics import confusion_matrix\n",
    "confusion_matrix = confusion_matrix(y_test, y_pred)\n",
    "print(confusion_matrix)"
   ]
  },
  {
   "cell_type": "markdown",
   "id": "a54d204e",
   "metadata": {},
   "source": [
    "El resultado anterior nos dice que tenemos 100+11 (111) predicciones correctas y 16+4 (20) predicciones incorrectas."
   ]
  },
  {
   "cell_type": "markdown",
   "id": "efe89e36",
   "metadata": {},
   "source": [
    "## Calcular la precisión, recall, f-measure y support"
   ]
  },
  {
   "cell_type": "code",
   "execution_count": 42,
   "id": "4e60344e",
   "metadata": {},
   "outputs": [
    {
     "name": "stdout",
     "output_type": "stream",
     "text": [
      "              precision    recall  f1-score   support\n",
      "\n",
      "           0       0.73      0.41      0.52        27\n",
      "           1       0.86      0.96      0.91       104\n",
      "\n",
      "    accuracy                           0.85       131\n",
      "   macro avg       0.80      0.68      0.72       131\n",
      "weighted avg       0.84      0.85      0.83       131\n",
      "\n"
     ]
    }
   ],
   "source": [
    "from sklearn.metrics import classification_report\n",
    "print(classification_report(y_test, y_pred))"
   ]
  },
  {
   "cell_type": "markdown",
   "id": "6c4c8b68",
   "metadata": {},
   "source": [
    "## Curva ROC"
   ]
  },
  {
   "cell_type": "code",
   "execution_count": 43,
   "id": "72570237",
   "metadata": {},
   "outputs": [
    {
     "data": {
      "image/png": "[encoded data removed]",
      "text/plain": [
       "<Figure size 640x480 with 1 Axes>"
      ]
     },
     "metadata": {},
     "output_type": "display_data"
    }
   ],
   "source": [
    "from sklearn.metrics import roc_auc_score\n",
    "from sklearn.metrics import roc_curve\n",
    "logit_roc_auc = roc_auc_score(y_test, logreg.predict(X_test))\n",
    "fpr, tpr, thresholds = roc_curve(y_test, logreg.predict_proba(X_test)[:,1])\n",
    "plt.figure()\n",
    "plt.plot(fpr, tpr, label='Logistic Regression (area = %0.2f)' % logit_roc_auc)\n",
    "plt.plot([0, 1], [0, 1],'r--')\n",
    "plt.xlim([0.0, 1.0])\n",
    "plt.ylim([0.0, 1.05])\n",
    "plt.xlabel('False Positive Rate')\n",
    "plt.ylabel('True Positive Rate')\n",
    "plt.title('Receiver operating characteristic')\n",
    "plt.legend(loc=\"lower right\")\n",
    "plt.savefig('Log_ROC')\n",
    "plt.show()"
   ]
  },
  {
   "cell_type": "code",
   "execution_count": null,
   "id": "efd7e076",
   "metadata": {},
   "outputs": [],
   "source": []
  },
  {
   "cell_type": "code",
   "execution_count": null,
   "id": "d5a0fce9",
   "metadata": {},
   "outputs": [],
   "source": []
  },
  {
   "cell_type": "code",
   "execution_count": null,
   "id": "890a000e",
   "metadata": {},
   "outputs": [],
   "source": []
  },
  {
   "cell_type": "code",
   "execution_count": null,
   "id": "32866bcb",
   "metadata": {},
   "outputs": [],
   "source": []
  },
  {
   "cell_type": "code",
   "execution_count": null,
   "id": "4ac36065",
   "metadata": {},
   "outputs": [],
   "source": []
  },
  {
   "cell_type": "code",
   "execution_count": null,
   "id": "c5ff649a",
   "metadata": {},
   "outputs": [],
   "source": []
  },
  {
   "cell_type": "code",
   "execution_count": null,
   "id": "08c6bf6f",
   "metadata": {},
   "outputs": [],
   "source": []
  },
  {
   "cell_type": "code",
   "execution_count": null,
   "id": "3e3e8465",
   "metadata": {},
   "outputs": [],
   "source": []
  }
 ],
 "metadata": {
  "kernelspec": {
   "display_name": "Python 3 (ipykernel)",
   "language": "python",
   "name": "python3"
  },
  "language_info": {
   "codemirror_mode": {
    "name": "ipython",
    "version": 3
   },
   "file_extension": ".py",
   "mimetype": "text/x-python",
   "name": "python",
   "nbconvert_exporter": "python",
   "pygments_lexer": "ipython3",
   "version": "3.11.5"
  }
 },
 "nbformat": 4,
 "nbformat_minor": 5
}
